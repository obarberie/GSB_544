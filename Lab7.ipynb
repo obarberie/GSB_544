{
 "cells": [
  {
   "cell_type": "raw",
   "metadata": {},
   "source": [
    "---\n",
    "title: Lab 7\n",
    "author: Owen Barberie\n",
    "format: \n",
    "    html:\n",
    "        toc: true\n",
    "        code-fold: false\n",
    "        embed-resources: true\n",
    "theme: cosmo\n",
    "---"
   ]
  },
  {
   "cell_type": "markdown",
   "metadata": {},
   "source": [
    "# The Data"
   ]
  },
  {
   "cell_type": "code",
   "execution_count": 28,
   "metadata": {
    "vscode": {
     "languageId": "python"
    }
   },
   "outputs": [],
   "source": [
    "\n",
    "import pandas as pd\n",
    "import numpy as np\n",
    "import warnings\n",
    "import matplotlib.pyplot as plt\n",
    "import seaborn as sns\n",
    "from plotnine import *\n",
    "from sklearn.metrics import (confusion_matrix, accuracy_score, precision_score,\n",
    "                             recall_score, roc_auc_score, f1_score, roc_curve, classification_report, \n",
    "                             cohen_kappa_score)\n",
    "from sklearn.preprocessing import StandardScaler, OneHotEncoder, PolynomialFeatures\n",
    "from sklearn.compose import make_column_selector, ColumnTransformer\n",
    "from sklearn.model_selection import train_test_split, GridSearchCV, cross_val_score\n",
    "from sklearn.neighbors import KNeighborsClassifier\n",
    "from sklearn.tree import DecisionTreeClassifier\n",
    "from sklearn.linear_model import LogisticRegression\n",
    "from sklearn.metrics import roc_curve, auc\n",
    "from sklearn.pipeline import Pipeline\n",
    "from sklearn.exceptions import ConvergenceWarning\n"
   ]
  },
  {
   "cell_type": "code",
   "execution_count": 29,
   "metadata": {
    "vscode": {
     "languageId": "python"
    }
   },
   "outputs": [],
   "source": [
    "ha = pd.read_csv(\"https://www.dropbox.com/s/aohbr6yb9ifmc8w/heart_attack.csv?dl=1\")\n"
   ]
  },
  {
   "cell_type": "code",
   "execution_count": 30,
   "metadata": {
    "vscode": {
     "languageId": "python"
    }
   },
   "outputs": [
    {
     "name": "stdout",
     "output_type": "stream",
     "text": [
      "   age  sex  cp  trtbps  chol  restecg  thalach  output\n",
      "0   63    1   3     145   233        0      150       1\n",
      "1   37    1   2     130   250        1      187       1\n",
      "2   56    1   1     120   236        1      178       1\n",
      "3   57    0   0     120   354        1      163       1\n",
      "4   57    1   0     140   192        1      148       1\n",
      "<class 'pandas.core.frame.DataFrame'>\n",
      "RangeIndex: 273 entries, 0 to 272\n",
      "Data columns (total 8 columns):\n",
      " #   Column   Non-Null Count  Dtype\n",
      "---  ------   --------------  -----\n",
      " 0   age      273 non-null    int64\n",
      " 1   sex      273 non-null    int64\n",
      " 2   cp       273 non-null    int64\n",
      " 3   trtbps   273 non-null    int64\n",
      " 4   chol     273 non-null    int64\n",
      " 5   restecg  273 non-null    int64\n",
      " 6   thalach  273 non-null    int64\n",
      " 7   output   273 non-null    int64\n",
      "dtypes: int64(8)\n",
      "memory usage: 17.2 KB\n",
      "None\n",
      "              age         sex          cp      trtbps        chol     restecg     thalach      output\n",
      "count  273.000000  273.000000  273.000000  273.000000  273.000000  273.000000  273.000000  273.000000\n",
      "mean    54.347985    0.673993    0.974359  132.098901  246.860806    0.538462  149.446886    0.534799\n",
      "std      9.163134    0.469611    1.030456   17.700358   52.569726    0.528059   23.240707    0.499704\n",
      "min     29.000000    0.000000    0.000000   94.000000  126.000000    0.000000   71.000000    0.000000\n",
      "25%     47.000000    0.000000    0.000000  120.000000  211.000000    0.000000  133.000000    0.000000\n",
      "50%     56.000000    1.000000    1.000000  130.000000  240.000000    1.000000  152.000000    1.000000\n",
      "75%     61.000000    1.000000    2.000000  140.000000  275.000000    1.000000  166.000000    1.000000\n",
      "max     77.000000    1.000000    3.000000  200.000000  564.000000    2.000000  202.000000    1.000000\n",
      "   age  sex  cp  trtbps  chol  restecg  thalach  output\n",
      "0   63    1   3     145   233        0      150       1\n",
      "1   37    1   2     130   250        1      187       1\n",
      "2   56    1   1     120   236        1      178       1\n",
      "3   57    0   0     120   354        1      163       1\n",
      "4   57    1   0     140   192        1      148       1\n",
      "<class 'pandas.core.frame.DataFrame'>\n",
      "RangeIndex: 273 entries, 0 to 272\n",
      "Data columns (total 8 columns):\n",
      " #   Column   Non-Null Count  Dtype\n",
      "---  ------   --------------  -----\n",
      " 0   age      273 non-null    int64\n",
      " 1   sex      273 non-null    int64\n",
      " 2   cp       273 non-null    int64\n",
      " 3   trtbps   273 non-null    int64\n",
      " 4   chol     273 non-null    int64\n",
      " 5   restecg  273 non-null    int64\n",
      " 6   thalach  273 non-null    int64\n",
      " 7   output   273 non-null    int64\n",
      "dtypes: int64(8)\n",
      "memory usage: 17.2 KB\n",
      "None\n",
      "              age         sex          cp      trtbps        chol     restecg     thalach      output\n",
      "count  273.000000  273.000000  273.000000  273.000000  273.000000  273.000000  273.000000  273.000000\n",
      "mean    54.347985    0.673993    0.974359  132.098901  246.860806    0.538462  149.446886    0.534799\n",
      "std      9.163134    0.469611    1.030456   17.700358   52.569726    0.528059   23.240707    0.499704\n",
      "min     29.000000    0.000000    0.000000   94.000000  126.000000    0.000000   71.000000    0.000000\n",
      "25%     47.000000    0.000000    0.000000  120.000000  211.000000    0.000000  133.000000    0.000000\n",
      "50%     56.000000    1.000000    1.000000  130.000000  240.000000    1.000000  152.000000    1.000000\n",
      "75%     61.000000    1.000000    2.000000  140.000000  275.000000    1.000000  166.000000    1.000000\n",
      "max     77.000000    1.000000    3.000000  200.000000  564.000000    2.000000  202.000000    1.000000\n"
     ]
    }
   ],
   "source": [
    "print(ha.head()) \n",
    "print(ha.info()) \n",
    "print(ha.describe())"
   ]
  },
  {
   "cell_type": "code",
   "execution_count": 31,
   "metadata": {
    "vscode": {
     "languageId": "python"
    }
   },
   "outputs": [
    {
     "name": "stdout",
     "output_type": "stream",
     "text": [
      "              age      trtbps        chol     thalach      output\n",
      "count  273.000000  273.000000  273.000000  273.000000  273.000000\n",
      "mean    54.347985  132.098901  246.860806  149.446886    0.534799\n",
      "std      9.163134   17.700358   52.569726   23.240707    0.499704\n",
      "min     29.000000   94.000000  126.000000   71.000000    0.000000\n",
      "25%     47.000000  120.000000  211.000000  133.000000    0.000000\n",
      "50%     56.000000  130.000000  240.000000  152.000000    1.000000\n",
      "75%     61.000000  140.000000  275.000000  166.000000    1.000000\n",
      "max     77.000000  200.000000  564.000000  202.000000    1.000000\n",
      "              age      trtbps        chol     thalach      output\n",
      "count  273.000000  273.000000  273.000000  273.000000  273.000000\n",
      "mean    54.347985  132.098901  246.860806  149.446886    0.534799\n",
      "std      9.163134   17.700358   52.569726   23.240707    0.499704\n",
      "min     29.000000   94.000000  126.000000   71.000000    0.000000\n",
      "25%     47.000000  120.000000  211.000000  133.000000    0.000000\n",
      "50%     56.000000  130.000000  240.000000  152.000000    1.000000\n",
      "75%     61.000000  140.000000  275.000000  166.000000    1.000000\n",
      "max     77.000000  200.000000  564.000000  202.000000    1.000000\n"
     ]
    }
   ],
   "source": [
    "ha.dropna(inplace=True)\n",
    "ha[[\"sex\", \"cp\", \"restecg\"]] = ha[[\"sex\", \"cp\", \"restecg\"]].astype(\"object\")\n",
    "ha[\"output\"] = ha[\"output\"].astype(int)\n",
    "print(ha.describe())"
   ]
  },
  {
   "cell_type": "markdown",
   "metadata": {},
   "source": [
    "# Part One"
   ]
  },
  {
   "cell_type": "markdown",
   "metadata": {},
   "source": [
    "## KKN "
   ]
  },
  {
   "cell_type": "code",
   "execution_count": 32,
   "metadata": {
    "vscode": {
     "languageId": "python"
    }
   },
   "outputs": [
    {
     "name": "stdout",
     "output_type": "stream",
     "text": [
      "Cross-validated ROC AUC score for KNN: 0.862\n",
      "Confusion Matrix:\n",
      " [[17  9]\n",
      " [16 13]]\n",
      "Cross-validated ROC AUC score for KNN: 0.862\n",
      "Confusion Matrix:\n",
      " [[17  9]\n",
      " [16 13]]\n"
     ]
    }
   ],
   "source": [
    "# splitting data into features and target\n",
    "X = ha.drop(columns=\"output\")\n",
    "y = ha[\"output\"]\n",
    "\n",
    "# splitting into training and test sets\n",
    "X_train, X_test, y_train, y_test = train_test_split(X, y, test_size=0.2, random_state=42)\n",
    "\n",
    "# setting up the preprocessing steps\n",
    "preprocessor = ColumnTransformer(\n",
    "    transformers=[\n",
    "        ('num', StandardScaler(), make_column_selector(dtype_include=np.number)),\n",
    "        ('cat', OneHotEncoder(), make_column_selector(dtype_include='object'))\n",
    "    ],\n",
    "    remainder='passthrough'  # keep any columns not specified above\n",
    ")\n",
    "\n",
    "# setting up the KNN pipeline\n",
    "knn_pipeline = Pipeline([\n",
    "    ('preprocessor', preprocessor),\n",
    "    ('knn', KNeighborsClassifier())\n",
    "])\n",
    "\n",
    "# hyperparameter tuning for KNN\n",
    "param_grid = {\n",
    "    'knn__n_neighbors': range(1, 21)\n",
    "}\n",
    "\n",
    "grid_search = GridSearchCV(knn_pipeline, param_grid, cv=5, scoring='roc_auc', n_jobs=-1)\n",
    "grid_search.fit(X_train, y_train)\n",
    "\n",
    "# get the best model\n",
    "best_knn = grid_search.best_estimator_\n",
    "\n",
    "# cross-validated roc auc score\n",
    "roc_auc = cross_val_score(best_knn, X_train, y_train, cv=5, scoring='roc_auc').mean()\n",
    "print(f\"Cross-validated ROC AUC score for KNN: {roc_auc:.3f}\")\n",
    "\n",
    "# fit final model\n",
    "best_knn.fit(X_train, y_train)\n",
    "\n",
    "# make predictions and confusion matrix\n",
    "y_pred = best_knn.predict(X_test)\n",
    "conf_matrix = confusion_matrix(y_test, y_pred)\n",
    "print(\"Confusion Matrix:\\n\", conf_matrix)\n"
   ]
  },
  {
   "cell_type": "markdown",
   "metadata": {},
   "source": [
    "The KNN model does not have coefficient features."
   ]
  },
  {
   "cell_type": "markdown",
   "metadata": {},
   "source": [
    "## Logistic Regression"
   ]
  },
  {
   "cell_type": "code",
   "execution_count": 33,
   "metadata": {
    "vscode": {
     "languageId": "python"
    }
   },
   "outputs": [
    {
     "name": "stdout",
     "output_type": "stream",
     "text": [
      "Cross-validated ROC AUC score for Logistic Regression: 0.893\n",
      "Confusion Matrix for Logistic Regression:\n",
      " [[18  8]\n",
      " [12 17]]\n",
      "Cross-validated ROC AUC score for Logistic Regression: 0.893\n",
      "Confusion Matrix for Logistic Regression:\n",
      " [[18  8]\n",
      " [12 17]]\n"
     ]
    }
   ],
   "source": [
    "# setting up the logistic regression pipeline\n",
    "logreg_pipeline = Pipeline([\n",
    "    ('preprocessor', preprocessor),\n",
    "    ('logreg', LogisticRegression(max_iter=1000, solver='liblinear'))\n",
    "])\n",
    "\n",
    "# hyperparameter tuning for logistic regression\n",
    "param_grid_logreg = {\n",
    "    'logreg__C': np.logspace(-4, 4, 10)  # tuning the regularization strength\n",
    "}\n",
    "\n",
    "grid_search_logreg = GridSearchCV(logreg_pipeline, param_grid_logreg, cv=5, scoring='roc_auc', n_jobs=-1)\n",
    "grid_search_logreg.fit(X_train, y_train)\n",
    "\n",
    "# get the best model\n",
    "best_logreg = grid_search_logreg.best_estimator_\n",
    "\n",
    "# cross-validated roc auc score\n",
    "roc_auc_logreg = cross_val_score(best_logreg, X_train, y_train, cv=5, scoring='roc_auc').mean()\n",
    "print(f\"Cross-validated ROC AUC score for Logistic Regression: {roc_auc_logreg:.3f}\")\n",
    "\n",
    "# fit final model\n",
    "best_logreg.fit(X_train, y_train)\n",
    "\n",
    "# make predictions and confusion matrix\n",
    "y_pred_logreg = best_logreg.predict(X_test)\n",
    "conf_matrix_logreg = confusion_matrix(y_test, y_pred_logreg)\n",
    "print(\"Confusion Matrix for Logistic Regression:\\n\", conf_matrix_logreg)\n"
   ]
  },
  {
   "cell_type": "code",
   "execution_count": 34,
   "metadata": {
    "vscode": {
     "languageId": "python"
    }
   },
   "outputs": [
    {
     "name": "stdout",
     "output_type": "stream",
     "text": [
      "Top predictors according to Logistic Regression:\n",
      "         Feature  Coefficient  Absolute Coefficient  Odds Ratio\n",
      "4    cat__sex_0     1.520961              1.520961    4.576621\n",
      "6     cat__cp_0    -1.517768              1.517768    0.219201\n",
      "7     cat__cp_1     1.220022              1.220022    3.387261\n",
      "3  num__thalach     1.200463              1.200463    3.321655\n",
      "5    cat__sex_1    -1.023946              1.023946    0.359175\n",
      "Top predictors according to Logistic Regression:\n",
      "         Feature  Coefficient  Absolute Coefficient  Odds Ratio\n",
      "4    cat__sex_0     1.520961              1.520961    4.576621\n",
      "6     cat__cp_0    -1.517768              1.517768    0.219201\n",
      "7     cat__cp_1     1.220022              1.220022    3.387261\n",
      "3  num__thalach     1.200463              1.200463    3.321655\n",
      "5    cat__sex_1    -1.023946              1.023946    0.359175\n"
     ]
    }
   ],
   "source": [
    "# interpreting coefficients of logistic regression\n",
    "feature_names = grid_search_logreg.best_estimator_.named_steps['preprocessor'].get_feature_names_out()\n",
    "coefficients = best_logreg.named_steps['logreg'].coef_[0]\n",
    "\n",
    "# creating a dataframe for better readability\n",
    "logreg_importance = pd.DataFrame({\n",
    "    'Feature': feature_names,\n",
    "    'Coefficient': coefficients\n",
    "})\n",
    "\n",
    "# adding absolute coefficients and odds ratios for interpretation\n",
    "logreg_importance['Absolute Coefficient'] = logreg_importance['Coefficient'].abs()\n",
    "logreg_importance['Odds Ratio'] = np.exp(logreg_importance['Coefficient'])\n",
    "\n",
    "# sorting by absolute coefficient\n",
    "logreg_importance = logreg_importance.sort_values(by='Absolute Coefficient', ascending=False)\n",
    "\n",
    "# displaying top predictors\n",
    "print(\"Top predictors according to Logistic Regression:\\n\", logreg_importance.head())\n"
   ]
  },
  {
   "cell_type": "markdown",
   "metadata": {},
   "source": [
    "The logistic regression model can be used to analyze the coefficients with the largest absolutely value. These variables shown above have the highest influence on heart attacks according to the logistic regression model. A positive coefficient demonstrates increased risk while negative coefficients show the opposite. Here, sex category, 0 and 1 for chest pain values, and thalach, have the highest impacts on heart attacks.\n",
    "\n",
    "Coefficient: 1.52: Female patients are more likely to be at risk for a heart attack compared to males, with odds about 4.58 times higher.\n",
    "cp_0 (Asymptomatic Chest Pain):\n",
    "\n",
    "Coefficient: -1.52: Patients with asymptomatic chest pain are less likely to have a heart attack compared to others, with lower odds by a factor of 0.22.\n",
    "cp_1 (Typical Angina):\n",
    "\n",
    "Coefficient: 1.22: Patients with typical angina have about 3.39 times greater odds of being at risk for a heart attack compared to asymptomatic patients.\n",
    "thalach (Maximum Heart Rate Achieved):\n",
    "\n",
    "Coefficient: 1.20: A higher maximum heart rate increases the likelihood of a heart attack, with odds rising accordingly.\n",
    "sex_1 (Male):\n",
    "\n",
    "Coefficient: -1.02: Being male is associated with lower risk compared to females, with the odds reduced to about 0.36 times that of females."
   ]
  },
  {
   "cell_type": "markdown",
   "metadata": {},
   "source": [
    "## Decision Tree "
   ]
  },
  {
   "cell_type": "code",
   "execution_count": 35,
   "metadata": {
    "vscode": {
     "languageId": "python"
    }
   },
   "outputs": [
    {
     "name": "stdout",
     "output_type": "stream",
     "text": [
      "Cross-validated ROC AUC score for Decision Tree: 0.828\n",
      "Confusion Matrix for Decision Tree:\n",
      " [[17  9]\n",
      " [11 18]]\n",
      "Cross-validated ROC AUC score for Decision Tree: 0.828\n",
      "Confusion Matrix for Decision Tree:\n",
      " [[17  9]\n",
      " [11 18]]\n"
     ]
    }
   ],
   "source": [
    "# setting up the decision tree pipeline\n",
    "tree_pipeline = Pipeline([\n",
    "    ('preprocessor', preprocessor),\n",
    "    ('tree', DecisionTreeClassifier(random_state=42))\n",
    "])\n",
    "\n",
    "# hyperparameter tuning for decision tree\n",
    "param_grid_tree = {\n",
    "    'tree__max_depth': range(1, 21),  # limiting depth to control overfitting\n",
    "    'tree__min_samples_split': [2, 5, 10]  # controlling minimum samples for a split\n",
    "}\n",
    "\n",
    "grid_search_tree = GridSearchCV(tree_pipeline, param_grid_tree, cv=5, scoring='roc_auc', n_jobs=-1)\n",
    "grid_search_tree.fit(X_train, y_train)\n",
    "\n",
    "# get the best model\n",
    "best_tree = grid_search_tree.best_estimator_\n",
    "\n",
    "# cross-validated roc auc score\n",
    "roc_auc_tree = cross_val_score(best_tree, X_train, y_train, cv=5, scoring='roc_auc').mean()\n",
    "print(f\"Cross-validated ROC AUC score for Decision Tree: {roc_auc_tree:.3f}\")\n",
    "\n",
    "# fit final model\n",
    "best_tree.fit(X_train, y_train)\n",
    "\n",
    "# make predictions and confusion matrix\n",
    "y_pred_tree = best_tree.predict(X_test)\n",
    "conf_matrix_tree = confusion_matrix(y_test, y_pred_tree)\n",
    "print(\"Confusion Matrix for Decision Tree:\\n\", conf_matrix_tree)\n"
   ]
  },
  {
   "cell_type": "code",
   "execution_count": 36,
   "metadata": {
    "vscode": {
     "languageId": "python"
    }
   },
   "outputs": [
    {
     "name": "stdout",
     "output_type": "stream",
     "text": [
      "Top predictors according to Decision Tree:\n",
      "         Feature  Importance\n",
      "6     cat__cp_0    0.568116\n",
      "3  num__thalach    0.210348\n",
      "1   num__trtbps    0.060913\n",
      "0      num__age    0.060602\n",
      "5    cat__sex_1    0.055336\n",
      "Top predictors according to Decision Tree:\n",
      "         Feature  Importance\n",
      "6     cat__cp_0    0.568116\n",
      "3  num__thalach    0.210348\n",
      "1   num__trtbps    0.060913\n",
      "0      num__age    0.060602\n",
      "5    cat__sex_1    0.055336\n"
     ]
    }
   ],
   "source": [
    "# interpreting feature importance from decision tree\n",
    "tree_importance = pd.DataFrame({\n",
    "    'Feature': feature_names,\n",
    "    'Importance': best_tree.named_steps['tree'].feature_importances_\n",
    "})\n",
    "\n",
    "tree_importance = tree_importance.sort_values(by='Importance', ascending=False)\n",
    "print(\"Top predictors according to Decision Tree:\\n\", tree_importance.head())"
   ]
  },
  {
   "cell_type": "markdown",
   "metadata": {},
   "source": [
    "The Decision Tree model found that asymptomatic chest pain was the biggest indicator of heart attack risk, followed by maximum heart rate achieved during exercise. This means people experiencing chest pain without symptoms and those who struggle with exercise should be closely monitored. Other factors like resting blood pressure, age, and sex were less influential, showing that specific clinical signs are more telling than general demographics. Overall, the strongest predictor of risk was having asymptomatic chest pain.\n",
    "\n",
    "Chest Pain Type 0 (asymptomatic) is the most critical feature in predicting the risk of a heart attack, contributing 56.81% to the model's decision-making process. \n",
    "\n",
    "Maximum Heart Rate Achieved (thalach) comes in as the second most important feature, accounting for 21.03% of the prediction power. \n",
    "\n",
    "Resting Blood Pressure (trtbps) has a smaller impact, contributing 6.09% to the model. Elevated resting blood pressure is recognized as a cardiovascular risk factor, though not as influential as the two main factors above.\n",
    "\n",
    "Age plays a minor role, contributing 6.00% to the prediction. While age is generally a relevant factor in assessing heart attack risk, in this model it appears to be less predictive compared to more direct health indicators like heart rate and chest pain.\n",
    "\n",
    "Sex (Male) contributes 5.53% to the model’s decisions. The importance suggests some influence of gender, but it’s not as strong compared to other clinical measures like chest pain or heart rate."
   ]
  },
  {
   "cell_type": "markdown",
   "metadata": {},
   "source": [
    "## Interpretation"
   ]
  },
  {
   "cell_type": "markdown",
   "metadata": {},
   "source": [
    "The KNN model does not offer incights to coefficient features. However, the logistic regression and decision tree models offer insights into the predictors. These insights have some overlap and while also maintaining key differences. The logistic regression model found the variables with the most impact on the target variable to be: Sex(0), Chest Pain (0, asymptomatic), Chest Pain (1, typical angina), and thalach (max heart rate during exercise). For the Decision tree model the variables with the most predictive power are: Chest Pain (0, asymptomatic), thalach (max heart rate during exercise), trtbps (resting heart rate), age, and sex."
   ]
  },
  {
   "cell_type": "markdown",
   "metadata": {},
   "source": [
    "## ROC Curve"
   ]
  },
  {
   "cell_type": "code",
   "execution_count": 37,
   "metadata": {
    "vscode": {
     "languageId": "python"
    }
   },
   "outputs": [
    {
     "data": {
      "image/png": "[encoded data removed]",
      "text/plain": [
       "<Figure size 1000x800 with 1 Axes>"
      ]
     },
     "metadata": {},
     "output_type": "display_data"
    }
   ],
   "source": [
    "# initializing plot\n",
    "plt.figure(figsize=(10, 8))\n",
    "\n",
    "# plotting ROC curve for KNN\n",
    "y_pred_prob_knn = best_knn.predict_proba(X_test)[:, 1]\n",
    "fpr_knn, tpr_knn, _ = roc_curve(y_test, y_pred_prob_knn)\n",
    "roc_auc_knn = auc(fpr_knn, tpr_knn)\n",
    "plt.plot(fpr_knn, tpr_knn, label=f'KNN (AUC = {roc_auc_knn:.2f})')\n",
    "\n",
    "# plotting ROC curve for Logistic Regression\n",
    "y_pred_prob_logreg = best_logreg.predict_proba(X_test)[:, 1]\n",
    "fpr_logreg, tpr_logreg, _ = roc_curve(y_test, y_pred_prob_logreg)\n",
    "roc_auc_logreg = auc(fpr_logreg, tpr_logreg)\n",
    "plt.plot(fpr_logreg, tpr_logreg, label=f'Logistic Regression (AUC = {roc_auc_logreg:.2f})')\n",
    "\n",
    "# plotting ROC curve for Decision Tree\n",
    "y_pred_prob_tree = best_tree.predict_proba(X_test)[:, 1]\n",
    "fpr_tree, tpr_tree, _ = roc_curve(y_test, y_pred_prob_tree)\n",
    "roc_auc_tree = auc(fpr_tree, tpr_tree)\n",
    "plt.plot(fpr_tree, tpr_tree, label=f'Decision Tree (AUC = {roc_auc_tree:.2f})')\n",
    "\n",
    "# plotting settings\n",
    "plt.plot([0, 1], [0, 1], color='grey', linestyle='--')  # diagonal line for random guess\n",
    "plt.xlabel('False Positive Rate')\n",
    "plt.ylabel('True Positive Rate')\n",
    "plt.title('ROC Curves for KNN, Logistic Regression, and Decision Tree')\n",
    "plt.legend(loc='lower right')\n",
    "plt.grid()\n",
    "plt.show()\n"
   ]
  },
  {
   "cell_type": "markdown",
   "metadata": {},
   "source": [
    "# Part Two: Metrics"
   ]
  },
  {
   "cell_type": "code",
   "execution_count": 27,
   "metadata": {
    "vscode": {
     "languageId": "python"
    }
   },
   "outputs": [
    {
     "name": "stdout",
     "output_type": "stream",
     "text": [
      "Cross-validated Metrics for KNN Model: {'Recall (Sensitivity)': 0.7465753424657534, 'Precision': 0.7956204379562044, 'Specificity (TNR)': 0.7795275590551181}\n",
      "Cross-validated Metrics for Logistic Regression Model: {'Recall (Sensitivity)': 0.815068493150685, 'Precision': 0.7986577181208053, 'Specificity (TNR)': 0.7637795275590551}\n",
      "Cross-validated Metrics for Decision Tree Model: {'Recall (Sensitivity)': 0.7328767123287672, 'Precision': 0.7925925925925926, 'Specificity (TNR)': 0.7795275590551181}\n",
      "Cross-validated Metrics for KNN Model: {'Recall (Sensitivity)': 0.7465753424657534, 'Precision': 0.7956204379562044, 'Specificity (TNR)': 0.7795275590551181}\n",
      "Cross-validated Metrics for Logistic Regression Model: {'Recall (Sensitivity)': 0.815068493150685, 'Precision': 0.7986577181208053, 'Specificity (TNR)': 0.7637795275590551}\n",
      "Cross-validated Metrics for Decision Tree Model: {'Recall (Sensitivity)': 0.7328767123287672, 'Precision': 0.7925925925925926, 'Specificity (TNR)': 0.7795275590551181}\n"
     ]
    }
   ],
   "source": [
    "from sklearn.model_selection import cross_val_predict\n",
    "\n",
    "# function to calculate cross-validated metrics for a given model\n",
    "def calculate_cross_validated_metrics(model, X, y, cv=5):\n",
    "    # cross-validated predictions\n",
    "    y_pred_cv = cross_val_predict(model, X, y, cv=cv)\n",
    "    \n",
    "    # calculate confusion matrix\n",
    "    tn, fp, fn, tp = confusion_matrix(y, y_pred_cv).ravel()\n",
    "    \n",
    "    # calculate metrics\n",
    "    recall = recall_score(y, y_pred_cv)  # true positive rate (sensitivity)\n",
    "    precision = precision_score(y, y_pred_cv)  # positive predictive value\n",
    "    specificity = tn / (tn + fp) if (tn + fp) != 0 else 0  # true negative rate\n",
    "\n",
    "    # return metrics as dictionary\n",
    "    return {\n",
    "        'Recall (Sensitivity)': recall,\n",
    "        'Precision': precision,\n",
    "        'Specificity (TNR)': specificity\n",
    "    }\n",
    "\n",
    "# calculating cross-validated metrics for each model\n",
    "metrics_knn_cv = calculate_cross_validated_metrics(best_knn, X, y)\n",
    "metrics_logreg_cv = calculate_cross_validated_metrics(best_logreg, X, y)\n",
    "metrics_tree_cv = calculate_cross_validated_metrics(best_tree, X, y)\n",
    "\n",
    "# displaying metrics\n",
    "print(\"Cross-validated Metrics for KNN Model:\", metrics_knn_cv)\n",
    "print(\"Cross-validated Metrics for Logistic Regression Model:\", metrics_logreg_cv)\n",
    "print(\"Cross-validated Metrics for Decision Tree Model:\", metrics_tree_cv)\n"
   ]
  },
  {
   "cell_type": "markdown",
   "metadata": {},
   "source": [
    "# Part Three: Discussion "
   ]
  },
  {
   "cell_type": "markdown",
   "metadata": {},
   "source": [
    "## Q1"
   ]
  },
  {
   "cell_type": "markdown",
   "metadata": {},
   "source": [
    "Metric to Use: In this scenario, the most critical metric is Recall (Sensitivity), which measures the proportion of actual heart attack patients correctly identified by the model. Since the hospital wants to minimize the chance of missing high-risk patients, high recall ensures that the model is sensitive enough to catch most true positives (i.e., patients at risk of a heart attack).\n",
    "\n",
    "Recommended Model: Based on our cross-validation results, I would recommend the Logistic Regression model. It had a high recall value, indicating it is effective at minimizing false negatives (failing to identify at-risk patients).\n",
    "\n",
    "Expected Score: I would expect the recall score for Logistic Regression to be approximately the same as our cross-validated recall, which was around 0.81. This means that 81% of patients at risk of a heart attack would be correctly identified.\n",
    "\n"
   ]
  },
  {
   "cell_type": "markdown",
   "metadata": {},
   "source": [
    "## Q2"
   ]
  },
  {
   "cell_type": "markdown",
   "metadata": {},
   "source": [
    "Metric to Use: The appropriate metric here is Precision. Since the hospital wants to efficiently use its limited resources, precision ensures that of all the patients classified as high-risk, a high proportion truly need monitoring. This avoids wasting resources on patients who are not actually at risk.\n",
    "\n",
    "Recommended Model: I would recommend the KNN model, as it demonstrated a high precision value. This model would reduce the number of false positives, ensuring that patients classified as high-risk are more likely to truly need monitoring.\n",
    "\n",
    "Expected Score: The expected precision for the KNN model would be around 0.8, based on our cross-validation. This means that 80% of patients identified as high-risk are actually in need of monitoring.\n",
    "\n"
   ]
  },
  {
   "cell_type": "markdown",
   "metadata": {},
   "source": [
    "## Q3"
   ]
  },
  {
   "cell_type": "markdown",
   "metadata": {},
   "source": [
    "Metric to Use: In this scenario, Interpretability is key, rather than a traditional metric. The hospital wants to understand which factors are associated with heart attacks, which makes interpretability of the model and coefficients most important.\n",
    "\n",
    "Recommended Model: The Logistic Regression model is the best choice here, as it provides interpretable coefficients that can help the hospital understand how each feature (age, chest pain type etc.) contributes to heart attack risk.\n",
    "\n",
    "Expected Score: While interpretability is the priority, the model's cross validated ROC AUC score (0.893) provides an idea of its overall discriminative ability, which is also reasonably high.\n",
    "\n"
   ]
  },
  {
   "cell_type": "markdown",
   "metadata": {},
   "source": [
    "## Q4"
   ]
  },
  {
   "cell_type": "markdown",
   "metadata": {},
   "source": [
    "Metric to Use: In this scenario, Accuracy is the most straightforward metric to use. The hospital wants to evaluate how well new doctors' diagnoses align with the model, and accuracy provides a direct measure of agreement between predictions and actual labels.\n",
    "\n",
    "Recommended Model: I would recommend using the Logistic Regression model. Logistic Regression tends to generalize well and provides consistent, interpretable results, making it easier for doctors to understand and compare their own diagnoses against the model's predictions.\n",
    "\n",
    "Expected Score: I would expect an accuracy score of around 0.80 for Logistic Regression, based on cross-validation. This would indicate that 80% of the predictions align with the true outcomes, providing a solid benchmark for new doctors to compare against.\n",
    "\n"
   ]
  },
  {
   "cell_type": "markdown",
   "metadata": {},
   "source": [
    "# Part Four: Validation"
   ]
  },
  {
   "cell_type": "code",
   "execution_count": 48,
   "metadata": {
    "vscode": {
     "languageId": "python"
    }
   },
   "outputs": [],
   "source": [
    "# clean validation data\n",
    "ha_validation = pd.read_csv(\"https://www.dropbox.com/s/jkwqdiyx6o6oad0/heart_attack_validation.csv?dl=1\")\n",
    "ha_validation.dropna(inplace=True)\n",
    "ha_validation[[\"sex\", \"cp\", \"restecg\", \"output\"]] = ha_validation[[\"sex\", \"cp\", \"restecg\", \"output\"]].astype(\"object\")\n",
    "ha_validation[\"output\"] = ha_validation[\"output\"].astype(int)\n",
    "\n",
    "# splitting into features and target\n",
    "X_val = ha_validation.drop(columns='output')\n",
    "y_val = ha_validation['output']\n",
    "\n"
   ]
  },
  {
   "cell_type": "code",
   "execution_count": 49,
   "metadata": {
    "vscode": {
     "languageId": "python"
    }
   },
   "outputs": [
    {
     "name": "stdout",
     "output_type": "stream",
     "text": [
      "Evaluating KNN Model on Validation Set:\n",
      "Confusion Matrix:\n",
      " [[ 9  2]\n",
      " [ 8 11]]\n",
      "ROC AUC: 0.80\n",
      "Precision: 0.85\n",
      "Recall: 0.58\n",
      "\n",
      "Evaluating Logistic Regression Model on Validation Set:\n",
      "Confusion Matrix:\n",
      " [[ 8  3]\n",
      " [ 6 13]]\n",
      "ROC AUC: 0.85\n",
      "Precision: 0.81\n",
      "Recall: 0.68\n",
      "\n",
      "Evaluating Decision Tree Model on Validation Set:\n",
      "Confusion Matrix:\n",
      " [[ 8  3]\n",
      " [ 6 13]]\n",
      "ROC AUC: 0.76\n",
      "Precision: 0.81\n",
      "Recall: 0.68\n",
      "Evaluating KNN Model on Validation Set:\n",
      "Confusion Matrix:\n",
      " [[ 9  2]\n",
      " [ 8 11]]\n",
      "ROC AUC: 0.80\n",
      "Precision: 0.85\n",
      "Recall: 0.58\n",
      "\n",
      "Evaluating Logistic Regression Model on Validation Set:\n",
      "Confusion Matrix:\n",
      " [[ 8  3]\n",
      " [ 6 13]]\n",
      "ROC AUC: 0.85\n",
      "Precision: 0.81\n",
      "Recall: 0.68\n",
      "\n",
      "Evaluating Decision Tree Model on Validation Set:\n",
      "Confusion Matrix:\n",
      " [[ 8  3]\n",
      " [ 6 13]]\n",
      "ROC AUC: 0.76\n",
      "Precision: 0.81\n",
      "Recall: 0.68\n"
     ]
    }
   ],
   "source": [
    "from sklearn.metrics import roc_auc_score, confusion_matrix, precision_score, recall_score\n",
    "\n",
    "# function to evaluate model on validation data\n",
    "def evaluate_model_on_validation(model, X_val, y_val):\n",
    "    # predict and predict probabilities\n",
    "    y_pred = model.predict(X_val)\n",
    "    y_pred_prob = model.predict_proba(X_val)[:, 1]\n",
    "\n",
    "    # calculate confusion matrix\n",
    "    conf_matrix = confusion_matrix(y_val, y_pred)\n",
    "    print(\"Confusion Matrix:\\n\", conf_matrix)\n",
    "\n",
    "    # calculate metrics\n",
    "    roc_auc = roc_auc_score(y_val, y_pred_prob)\n",
    "    precision = precision_score(y_val, y_pred)\n",
    "    recall = recall_score(y_val, y_pred)\n",
    "\n",
    "    # print metrics\n",
    "    print(f\"ROC AUC: {roc_auc:.2f}\")\n",
    "    print(f\"Precision: {precision:.2f}\")\n",
    "    print(f\"Recall: {recall:.2f}\")\n",
    "\n",
    "# evaluating KNN model on validation set\n",
    "print(\"Evaluating KNN Model on Validation Set:\")\n",
    "evaluate_model_on_validation(best_knn, X_val, y_val)\n",
    "\n",
    "# evaluating Logistic Regression model on validation set\n",
    "print(\"\\nEvaluating Logistic Regression Model on Validation Set:\")\n",
    "evaluate_model_on_validation(best_logreg, X_val, y_val)\n",
    "\n",
    "# evaluating Decision Tree model on validation set\n",
    "print(\"\\nEvaluating Decision Tree Model on Validation Set:\")\n",
    "evaluate_model_on_validation(best_tree, X_val, y_val)\n"
   ]
  },
  {
   "cell_type": "code",
   "execution_count": 50,
   "metadata": {
    "vscode": {
     "languageId": "python"
    }
   },
   "outputs": [
    {
     "name": "stdout",
     "output_type": "stream",
     "text": [
      "Cross-validated Metrics for KNN Model: {'Recall (Sensitivity)': 0.7465753424657534, 'Precision': 0.7956204379562044, 'Specificity (TNR)': 0.7795275590551181}\n",
      "Cross-validated Metrics for Logistic Regression Model: {'Recall (Sensitivity)': 0.815068493150685, 'Precision': 0.7986577181208053, 'Specificity (TNR)': 0.7637795275590551}\n",
      "Cross-validated Metrics for Decision Tree Model: {'Recall (Sensitivity)': 0.7328767123287672, 'Precision': 0.7925925925925926, 'Specificity (TNR)': 0.7795275590551181}\n",
      "Cross-validated ROC AUC score for KNN: 0.862\n",
      "Cross-validated ROC AUC score for Logistic Regression: 0.720\n",
      "Cross-validated ROC AUC score for Decision Tree: 0.724\n",
      "Cross-validated Metrics for KNN Model: {'Recall (Sensitivity)': 0.7465753424657534, 'Precision': 0.7956204379562044, 'Specificity (TNR)': 0.7795275590551181}\n",
      "Cross-validated Metrics for Logistic Regression Model: {'Recall (Sensitivity)': 0.815068493150685, 'Precision': 0.7986577181208053, 'Specificity (TNR)': 0.7637795275590551}\n",
      "Cross-validated Metrics for Decision Tree Model: {'Recall (Sensitivity)': 0.7328767123287672, 'Precision': 0.7925925925925926, 'Specificity (TNR)': 0.7795275590551181}\n",
      "Cross-validated ROC AUC score for KNN: 0.862\n",
      "Cross-validated ROC AUC score for Logistic Regression: 0.720\n",
      "Cross-validated ROC AUC score for Decision Tree: 0.724\n"
     ]
    }
   ],
   "source": [
    "# Previously found cross validation metrics\n",
    "print(\"Cross-validated Metrics for KNN Model:\", metrics_knn_cv)\n",
    "print(\"Cross-validated Metrics for Logistic Regression Model:\", metrics_logreg_cv)\n",
    "print(\"Cross-validated Metrics for Decision Tree Model:\", metrics_tree_cv)\n",
    "\n",
    "print(f\"Cross-validated ROC AUC score for KNN: {roc_auc:.3f}\")\n",
    "print(f\"Cross-validated ROC AUC score for Logistic Regression: {roc_auc_logreg:.3f}\")\n",
    "print(f\"Cross-validated ROC AUC score for Decision Tree: {roc_auc_tree:.3f}\")"
   ]
  },
  {
   "cell_type": "markdown",
   "metadata": {},
   "source": [
    "The KNN model performed worse in terms of recall, suggesting it is less sensitive to true positives than initially estimated, but it maintained or even improved in precision. ROC AUC saw a slight decrease. \n",
    "\n",
    "The Logistic Regression model experienced a drop in recall but maintained good precision and showed improved ROC AUC on the validation set, indicating it is still a solid, well-generalized model.\n",
    "\n",
    "The Decision Tree model performed slightly better in terms of precision and ROC AUC on the validation set, though it still had a slight drop in recall, meaning it was less effective at capturing true positives.\n",
    "\n",
    "Logistic Regression appears to be the best performer, as it balanced precision and ROC AUC quite well, with a smaller decrease in recall compared to the others. The models mostly held up well when comparing cross-validation estimates to validation performance, especially regarding precision and ROC AUC. "
   ]
  },
  {
   "cell_type": "markdown",
   "metadata": {},
   "source": [
    "# Part Five: Cohen's Kappa"
   ]
  },
  {
   "cell_type": "code",
   "execution_count": 52,
   "metadata": {
    "vscode": {
     "languageId": "python"
    }
   },
   "outputs": [
    {
     "name": "stdout",
     "output_type": "stream",
     "text": [
      "Cohen's Kappa for KNN Model: 0.36\n",
      "Cohen's Kappa for Logistic Regression Model: 0.39\n",
      "Cohen's Kappa for Decision Tree Model: 0.39\n",
      "Cohen's Kappa for KNN Model: 0.36\n",
      "Cohen's Kappa for Logistic Regression Model: 0.39\n",
      "Cohen's Kappa for Decision Tree Model: 0.39\n"
     ]
    }
   ],
   "source": [
    "from sklearn.metrics import cohen_kappa_score\n",
    "\n",
    "# calculating Cohen's Kappa for KNN Model\n",
    "y_pred_knn_val = best_knn.predict(X_val)\n",
    "knn_ck = cohen_kappa_score(y_val, y_pred_knn_val)\n",
    "print(f\"Cohen's Kappa for KNN Model: {knn_ck:.2f}\")\n",
    "\n",
    "# calculating Cohen's Kappa for Logistic Regression Model\n",
    "y_pred_logreg_val = best_logreg.predict(X_val)\n",
    "log_ck = cohen_kappa_score(y_val, y_pred_logreg_val)\n",
    "print(f\"Cohen's Kappa for Logistic Regression Model: {log_ck:.2f}\")\n",
    "\n",
    "# calculating Cohen's Kappa for Decision Tree Model\n",
    "y_pred_tree_val = best_tree.predict(X_val)\n",
    "tree_ck = cohen_kappa_score(y_val, y_pred_tree_val)\n",
    "print(f\"Cohen's Kappa for Decision Tree Model: {tree_ck:.2f}\")\n"
   ]
  },
  {
   "cell_type": "markdown",
   "metadata": {},
   "source": [
    "Cohen's Kappa is a metric that measures how well the model’s predictions agree with the true labels, taking into account the possibility of random agreement. A high Kappa score indicates that the model's predictions are not just random guesses and align well with the actual values beyond chance. It could be smart to use this metric in a situation where class distributions are imbalanced, and/or standard metrics like accuracy might be misleading. \n",
    "\n",
    "The Cohen’s Kappa for the KNN model was relatively low (0.36), which suggests that its level of agreement with the true labels was weak. This reinforces the concern about its ability to generalize and accurately capture the relationship between features and target. Therefore, the conclusion that KNN might not be the best model for this application is unchanged.\n",
    "\n",
    "The Cohen’s Kappa for Logistic Regression was slightly higher (0.39). While this still indicates only fair agreement, it confirms that Logistic Regression is at least on similar to the other models and is more interpretable. The decision to prefer Logistic Regression, especially for interpretability and consistent generalization, remains valid.\n",
    "\n",
    "The Cohen’s Kappa for Decision Tree was also 0.39, similar to Logistic Regression. This shows that the Decision Tree model's predictions have a similar level of agreement to those of Logistic Regression. However, considering that Decision Trees tend to overfit and may lack the stability of Logistic Regression, the preference for Logistic Regression is still justified.\n",
    "\n",
    "While Cohen’s Kappa reveals only fair agreement across all models, Logistic Regression remains the preferred choice due to its balance between performance and interpretability. The low Kappa values indicate a need for further model improvements, possibly through feature engineering, addressing class imbalance, or using more advanced modeling techniques. However, the overall conclusions do not change significantly. Logistic Regression is still the best model among the three for predicting heart attack risk, given its consistency and interpretability.\n",
    "\n"
   ]
  },
  {
   "cell_type": "markdown",
   "metadata": {},
   "source": [
    "# Appendix"
   ]
  },
  {
   "cell_type": "markdown",
   "metadata": {},
   "source": [
    "https://towardsdatascience.com/interpretation-of-kappa-values-2acd1ca7b18f\n",
    "\n",
    "https://scikit-learn.org/dev/modules/generated/sklearn.metrics.cohen_kappa_score.html\n",
    "\n",
    "This lab assignment involved the use of ChatGPT as a supplementary tool to aid in coding, debugging, and generating ideas for data analysis. ChatGPT was utilized to provide guidance in structuring the analysis and understanding specific machine learning concepts, but all code implementation, data cleaning, model training, and interpretation of results were conducted independently by the author. The AI tool was used primarily for conceptual clarification and brainstorming purposes, and not for direct generation of assignment content."
   ]
  }
 ],
 "metadata": {
  "language_info": {
   "name": "raw"
  }
 },
 "nbformat": 4,
 "nbformat_minor": 2
}
