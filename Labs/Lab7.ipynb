{
 "cells": [
  {
   "cell_type": "raw",
   "metadata": {},
   "source": [
    "---\n",
    "title: Lab 7\n",
    "author: Owen Barberie\n",
    "format: \n",
    "    html:\n",
    "        toc: true\n",
    "        code-fold: false\n",
    "        embed-resources: true\n",
    "theme: cosmo\n",
    "---"
   ]
  }
 ],
 "metadata": {
  "language_info": {
   "name": "raw"
  }
 },
 "nbformat": 4,
 "nbformat_minor": 2
}
