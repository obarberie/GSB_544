{
  "cells": [
    {
      "cell_type": "markdown",
      "metadata": {
        "id": "8p1mF9p_njvq"
      },
      "source": [
        "0. Load the `penguins` dataset from the `palmerpenguins` library, as well as any other libraries you need.\n",
        "\n"
      ]
    },
    {
      "cell_type": "code",
      "execution_count": 15,
      "metadata": {
        "id": "B0wyLoBRngwh"
      },
      "outputs": [
        {
          "name": "stdout",
          "output_type": "stream",
          "text": [
            "Requirement already satisfied: palmerpenguins in /opt/anaconda3/lib/python3.12/site-packages (0.1.4)\r\n",
            "Requirement already satisfied: pandas in /opt/anaconda3/lib/python3.12/site-packages (from palmerpenguins) (2.2.2)\r\n",
            "Requirement already satisfied: numpy in /opt/anaconda3/lib/python3.12/site-packages (from palmerpenguins) (1.26.4)\r\n",
            "Requirement already satisfied: palmerpenguins in /opt/anaconda3/lib/python3.12/site-packages (0.1.4)\r\n",
            "Requirement already satisfied: pandas in /opt/anaconda3/lib/python3.12/site-packages (from palmerpenguins) (2.2.2)\r\n",
            "Requirement already satisfied: numpy in /opt/anaconda3/lib/python3.12/site-packages (from palmerpenguins) (1.26.4)\r\n"
          ]
        },
        {
          "name": "stdout",
          "output_type": "stream",
          "text": [
            "Requirement already satisfied: python-dateutil>=2.8.2 in /opt/anaconda3/lib/python3.12/site-packages (from pandas->palmerpenguins) (2.9.0.post0)\r\n",
            "Requirement already satisfied: pytz>=2020.1 in /opt/anaconda3/lib/python3.12/site-packages (from pandas->palmerpenguins) (2024.1)\r\n",
            "Requirement already satisfied: tzdata>=2022.7 in /opt/anaconda3/lib/python3.12/site-packages (from pandas->palmerpenguins) (2023.3)\r\n",
            "Requirement already satisfied: six>=1.5 in /opt/anaconda3/lib/python3.12/site-packages (from python-dateutil>=2.8.2->pandas->palmerpenguins) (1.16.0)\r\n",
            "Requirement already satisfied: python-dateutil>=2.8.2 in /opt/anaconda3/lib/python3.12/site-packages (from pandas->palmerpenguins) (2.9.0.post0)\r\n",
            "Requirement already satisfied: pytz>=2020.1 in /opt/anaconda3/lib/python3.12/site-packages (from pandas->palmerpenguins) (2024.1)\r\n",
            "Requirement already satisfied: tzdata>=2022.7 in /opt/anaconda3/lib/python3.12/site-packages (from pandas->palmerpenguins) (2023.3)\r\n",
            "Requirement already satisfied: six>=1.5 in /opt/anaconda3/lib/python3.12/site-packages (from python-dateutil>=2.8.2->pandas->palmerpenguins) (1.16.0)\r\n"
          ]
        }
      ],
      "source": [
        "\n",
        "!pip install palmerpenguins\n",
        "\n",
        "import pandas as pd\n",
        "from palmerpenguins import load_penguins\n",
        "\n",
        "\n",
        "penguins = load_penguins()\n"
      ]
    },
    {
      "cell_type": "markdown",
      "metadata": {
        "id": "LUURcsjcnrA3"
      },
      "source": [
        "1. Write a function that takes in information about a penguin, and returns one of the following definitions:\n",
        "\n",
        "*   \"Big Mouth Billy\": Male penguins with bill length times bill depth greater than 800.\n",
        "*   \"Dainty Daisy\": Female penguins with flipper length less than 5% of body mass.\n",
        "*   \"Average Adelie:\" Any Adelie penguins that do not fall into either category.\n",
        "*   \"Other\": Any penguins that do not fall into any of the categories.\n",
        "\n"
      ]
    },
    {
      "cell_type": "code",
      "execution_count": 16,
      "metadata": {},
      "outputs": [],
      "source": [
        "def penguin_info(island, bill_length_mm, bill_depth_mm, flipper_length_mm, body_mass_g, sex, species):\n",
        "\n",
        "    bill_size = bill_length_mm * bill_depth_mm\n",
        "\n",
        "\n",
        "    if sex == 'male' and bill_size > 800:\n",
        "        return \"Big Mouth Billy\"\n",
        "    elif sex == 'female' and flipper_length_mm < 0.05*body_mass_g:\n",
        "        return \"Dainty Daisy\"\n",
        "    elif species == 'Adelie':\n",
        "        return \"Average Adelie\"\n",
        "    else:\n",
        "        return \"Other\"\n",
        "\n"
      ]
    },
    {
      "cell_type": "markdown",
      "metadata": {
        "id": "L3cOiPwJo_q5"
      },
      "source": [
        "2. Use an iterable function to create a new variable called `category_name` that adds these labels."
      ]
    },
    {
      "cell_type": "code",
      "execution_count": 17,
      "metadata": {
        "id": "AJk_DHBDpKvV"
      },
      "outputs": [
        {
          "name": "stdout",
          "output_type": "stream",
          "text": [
            "  species     sex   category_name\n",
            "0  Adelie    male  Average Adelie\n",
            "1  Adelie  female    Dainty Daisy\n",
            "2  Adelie  female  Average Adelie\n",
            "3  Adelie     NaN  Average Adelie\n",
            "4  Adelie  female  Average Adelie\n",
            "  species     sex   category_name\n",
            "0  Adelie    male  Average Adelie\n",
            "1  Adelie  female    Dainty Daisy\n",
            "2  Adelie  female  Average Adelie\n",
            "3  Adelie     NaN  Average Adelie\n",
            "4  Adelie  female  Average Adelie\n"
          ]
        }
      ],
      "source": [
        "\n",
        "penguins['category_name'] = penguins.apply(\n",
        "    lambda row: penguin_info(\n",
        "        row['island'],\n",
        "        row['bill_length_mm'],\n",
        "        row['bill_depth_mm'],\n",
        "        row['flipper_length_mm'],\n",
        "        row['body_mass_g'],\n",
        "        row['sex'],\n",
        "        row['species']\n",
        "    ),\n",
        "    axis=1\n",
        ")\n",
        "\n",
        "print(penguins[['species', 'sex', 'category_name']].head())"
      ]
    },
    {
      "cell_type": "markdown",
      "metadata": {
        "id": "wzjur3hzpLxr"
      },
      "source": [
        "3. Run the following code to find the counts for each type."
      ]
    },
    {
      "cell_type": "code",
      "execution_count": 18,
      "metadata": {
        "id": "iDHDAKOXpPOm"
      },
      "outputs": [
        {
          "data": {
            "text/plain": [
              "category_name\n",
              "Average Adelie     127\n",
              "Other               84\n",
              "Big Mouth Billy     71\n",
              "Dainty Daisy        62\n",
              "Name: count, dtype: int64"
            ]
          },
          "execution_count": null,
          "metadata": {},
          "output_type": "execute_result"
        }
      ],
      "source": [
        "penguins.value_counts(\"category_name\")"
      ]
    }
  ],
  "metadata": {
    "colab": {
      "provenance": []
    },
    "kernelspec": {
      "display_name": "Python 3",
      "name": "python3"
    },
    "language_info": {
      "name": "python"
    }
  },
  "nbformat": 4,
  "nbformat_minor": 0
}
