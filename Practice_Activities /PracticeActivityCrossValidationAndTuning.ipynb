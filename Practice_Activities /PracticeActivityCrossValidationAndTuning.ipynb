{
 "cells": [
  {
   "cell_type": "raw",
   "metadata": {
    "vscode": {
     "languageId": "raw"
    }
   },
   "source": [
    "---\n",
    "title: 7.1 Cross Validation and Tuning\n",
    "author: Owen Barberie\n",
    "format: \n",
    "    html:\n",
    "        toc: true\n",
    "        code-fold: false\n",
    "        embed-resources: true\n",
    "theme: cosmo\n",
    "---"
   ]
  },
  {
   "cell_type": "code",
   "execution_count": 32,
   "metadata": {},
   "outputs": [],
   "source": [
    "import pandas as pd\n",
    "import numpy as np\n",
    "from sklearn.pipeline import Pipeline\n",
    "from sklearn.compose import make_column_selector, ColumnTransformer\n",
    "from sklearn.preprocessing import StandardScaler, OneHotEncoder, PolynomialFeatures\n",
    "from sklearn.linear_model import LinearRegression, Ridge, Lasso, ElasticNet \n",
    "from sklearn.model_selection import train_test_split, cross_val_score\n",
    "from sklearn.metrics import r2_score\n",
    "from sklearn.metrics import make_scorer\n",
    "from sklearn.model_selection import GridSearchCV"
   ]
  },
  {
   "cell_type": "markdown",
   "metadata": {},
   "source": [
    "# Part 1"
   ]
  },
  {
   "cell_type": "code",
   "execution_count": 10,
   "metadata": {},
   "outputs": [],
   "source": [
    "ames = pd.read_csv(\"/Users/OwenBarberie/Desktop/GSB_544/AmesHousing.csv\")"
   ]
  },
  {
   "cell_type": "code",
   "execution_count": 11,
   "metadata": {},
   "outputs": [
    {
     "data": {
      "text/plain": [
       "<bound method NDFrame.head of       Order        PID  MS SubClass MS Zoning  ...  Yr Sold  Sale Type Sale Condition SalePrice\n",
       "0         1  526301100           20        RL  ...     2010        WD          Normal    215000\n",
       "1         2  526350040           20        RH  ...     2010        WD          Normal    105000\n",
       "2         3  526351010           20        RL  ...     2010        WD          Normal    172000\n",
       "3         4  526353030           20        RL  ...     2010        WD          Normal    244000\n",
       "4         5  527105010           60        RL  ...     2010        WD          Normal    189900\n",
       "...     ...        ...          ...       ...  ...      ...        ...            ...       ...\n",
       "2925   2926  923275080           80        RL  ...     2006        WD          Normal    142500\n",
       "2926   2927  923276100           20        RL  ...     2006        WD          Normal    131000\n",
       "2927   2928  923400125           85        RL  ...     2006        WD          Normal    132000\n",
       "2928   2929  924100070           20        RL  ...     2006        WD          Normal    170000\n",
       "2929   2930  924151050           60        RL  ...     2006        WD          Normal    188000\n",
       "\n",
       "[2930 rows x 82 columns]>"
      ]
     },
     "execution_count": null,
     "metadata": {},
     "output_type": "execute_result"
    }
   ],
   "source": [
    "ames.head"
   ]
  },
  {
   "cell_type": "code",
   "execution_count": null,
   "metadata": {},
   "outputs": [],
   "source": []
  },
  {
   "cell_type": "code",
   "execution_count": 25,
   "metadata": {},
   "outputs": [
    {
     "name": "stdout",
     "output_type": "stream",
     "text": [
      "Model 1 RMSE: 61928.537196800295\n",
      "Model 2 RMSE: 59589.203174233546\n",
      "Model 3 RMSE: 58312.15540974156\n",
      "Model 4 RMSE: 689799.9863300155\n",
      "Best performing model: Model 3 with RMSE: 58312.15540974156\n",
      "Model 1 RMSE: 61928.537196800295\n",
      "Model 2 RMSE: 59589.203174233546\n",
      "Model 3 RMSE: 58312.15540974156\n",
      "Model 4 RMSE: 689799.9863300155\n",
      "Best performing model: Model 3 with RMSE: 58312.15540974156\n"
     ]
    }
   ],
   "source": [
    "X = ames[['Gr Liv Area', 'TotRms AbvGrd', 'Bldg Type']]\n",
    "y = ames['SalePrice']\n",
    "\n",
    "X_train, X_test, y_train, y_test = train_test_split(X, y, test_size=0.2, random_state=42)\n",
    "\n",
    "preprocessor = ColumnTransformer(\n",
    "    transformers=[\n",
    "        ('num', StandardScaler(), ['Gr Liv Area', 'TotRms AbvGrd']),\n",
    "        ('cat', OneHotEncoder(drop='first'), ['Bldg Type'])\n",
    "    ]\n",
    ")\n",
    "\n",
    "model1 = Pipeline([\n",
    "    ('preprocessor', ColumnTransformer([('num', StandardScaler(), ['Gr Liv Area', 'TotRms AbvGrd'])])),\n",
    "    ('regressor', LinearRegression())\n",
    "])\n",
    "\n",
    "model2 = Pipeline([\n",
    "    ('preprocessor', preprocessor),\n",
    "    ('regressor', LinearRegression())\n",
    "])\n",
    "\n",
    "model3 = Pipeline([\n",
    "    ('preprocessor', preprocessor),\n",
    "    ('poly', PolynomialFeatures(interaction_only=True, include_bias=False)),\n",
    "    ('regressor', LinearRegression())\n",
    "])\n",
    "\n",
    "model4 = Pipeline([\n",
    "    ('preprocessor', preprocessor),\n",
    "    ('poly', PolynomialFeatures(degree=5, include_bias=False)),\n",
    "    ('regressor', LinearRegression())\n",
    "])\n",
    "\n",
    "models = [model1, model2, model3, model4]\n",
    "rmse_scores = []\n",
    "\n",
    "for i, model in enumerate(models, 1):\n",
    "    model.fit(X_train, y_train)\n",
    "    y_pred = model.predict(X_test)\n",
    "    rmse = np.sqrt(mean_squared_error(y_test, y_pred))\n",
    "    rmse_scores.append((f'Model {i}', rmse))\n",
    "    print(f'Model {i} RMSE: {rmse}')\n",
    "\n",
    "best_model = min(rmse_scores, key=lambda x: x[1])\n",
    "print(f\"Best performing model: {best_model[0]} with RMSE: {best_model[1]}\")\n"
   ]
  },
  {
   "cell_type": "markdown",
   "metadata": {},
   "source": [
    "# Part 2"
   ]
  },
  {
   "cell_type": "code",
   "execution_count": 28,
   "metadata": {},
   "outputs": [
    {
     "data": {
      "text/plain": [
       "array([[-0.24352173, -0.26170611,  0.        ,  0.        ,  0.        ,  0.        ],\n",
       "       [ 1.25495594,  0.37795929,  0.        ,  0.        ,  0.        ,  0.        ],\n",
       "       [-0.53291028, -0.26170611,  0.        ,  1.        ,  0.        ,  0.        ],\n",
       "       ...,\n",
       "       [ 0.46607484,  0.37795929,  0.        ,  0.        ,  0.        ,  0.        ],\n",
       "       [ 0.4898602 , -0.26170611,  0.        ,  0.        ,  0.        ,  0.        ],\n",
       "       [-1.43675395, -0.90137151,  0.        ,  0.        ,  0.        ,  0.        ]])"
      ]
     },
     "execution_count": null,
     "metadata": {},
     "output_type": "execute_result"
    }
   ],
   "source": [
    "preprocessor.fit_transform(X_train)"
   ]
  },
  {
   "cell_type": "code",
   "execution_count": 26,
   "metadata": {},
   "outputs": [
    {
     "name": "stdout",
     "output_type": "stream",
     "text": [
      "Model 1 Cross-validated RMSE: 55806.32634926364\n",
      "Model 2 Cross-validated RMSE: 54168.081429193844\n",
      "Model 3 Cross-validated RMSE: 53363.03910983061\n",
      "Model 1 Cross-validated RMSE: 55806.32634926364\n",
      "Model 2 Cross-validated RMSE: 54168.081429193844\n",
      "Model 3 Cross-validated RMSE: 53363.03910983061\n"
     ]
    },
    {
     "name": "stdout",
     "output_type": "stream",
     "text": [
      "Model 4 Cross-validated RMSE: 339899.3132584556\n",
      "Best performing model: Model 3 with RMSE: 53363.03910983061\n",
      "Model 4 Cross-validated RMSE: 339899.3132584556\n",
      "Best performing model: Model 3 with RMSE: 53363.03910983061\n"
     ]
    }
   ],
   "source": [
    "preprocessor = ColumnTransformer(\n",
    "    transformers=[\n",
    "        ('num', StandardScaler(), ['Gr Liv Area', 'TotRms AbvGrd']),\n",
    "        ('cat', OneHotEncoder(drop='first'), ['Bldg Type'])\n",
    "    ]\n",
    ")\n",
    "\n",
    "model1 = Pipeline([\n",
    "    ('preprocessor', ColumnTransformer([('num', StandardScaler(), ['Gr Liv Area', 'TotRms AbvGrd'])])),\n",
    "    ('regressor', LinearRegression())\n",
    "])\n",
    "\n",
    "model2 = Pipeline([\n",
    "    ('preprocessor', preprocessor),\n",
    "    ('regressor', LinearRegression())\n",
    "])\n",
    "\n",
    "model3 = Pipeline([\n",
    "    ('preprocessor', preprocessor),\n",
    "    ('poly', PolynomialFeatures(interaction_only=True, include_bias=False)),\n",
    "    ('regressor', LinearRegression())\n",
    "])\n",
    "\n",
    "model4 = Pipeline([\n",
    "    ('preprocessor', preprocessor),\n",
    "    ('poly', PolynomialFeatures(degree=5, include_bias=False)),\n",
    "    ('regressor', LinearRegression())\n",
    "])\n",
    "\n",
    "models = [model1, model2, model3, model4]\n",
    "model_names = [\"Model 1\", \"Model 2\", \"Model 3\", \"Model 4\"]\n",
    "\n",
    "rmse_scores = []\n",
    "for model, name in zip(models, model_names):\n",
    "    neg_mse_scores = cross_val_score(model, X, y, scoring='neg_mean_squared_error', cv=5)\n",
    "    rmse_scores.append((name, np.mean(np.sqrt(-neg_mse_scores))))\n",
    "    print(f\"{name} Cross-validated RMSE: {np.mean(np.sqrt(-neg_mse_scores))}\")\n",
    "\n",
    "best_model = min(rmse_scores, key=lambda x: x[1])\n",
    "print(f\"Best performing model: {best_model[0]} with RMSE: {best_model[1]}\")\n"
   ]
  },
  {
   "cell_type": "markdown",
   "metadata": {},
   "source": [
    "Although the RMSEs are different for the original test train split and the cross validation, the order from least to greatest RMSEs remains the same. That is, Model 3 (lowest), Model 2, Model 1, and Model 4(highest). "
   ]
  },
  {
   "cell_type": "markdown",
   "metadata": {},
   "source": [
    "# Part 3"
   ]
  },
  {
   "cell_type": "code",
   "execution_count": 38,
   "metadata": {},
   "outputs": [
    {
     "name": "stdout",
     "output_type": "stream",
     "text": [
      "Best parameters: {'preprocessing__poly_rooms__degree': np.int64(1), 'preprocessing__poly_size__degree': np.int64(3)}\n",
      "Best R^2 score: 0.5576405916501644\n",
      "Best parameters: {'preprocessing__poly_rooms__degree': np.int64(1), 'preprocessing__poly_size__degree': np.int64(3)}\n",
      "Best R^2 score: 0.5576405916501644\n"
     ]
    },
    {
     "name": "stderr",
     "output_type": "stream",
     "text": [
      "/Users/OwenBarberie/Library/Python/3.9/lib/python/site-packages/numpy/ma/core.py:2846: RuntimeWarning: invalid value encountered in cast\n",
      "  _data = np.array(data, dtype=dtype, copy=copy,\n"
     ]
    }
   ],
   "source": [
    "\n",
    "X = ames[['Gr Liv Area', 'TotRms AbvGrd', 'Bldg Type']]\n",
    "y = ames['SalePrice']\n",
    "\n",
    "ct_poly = ColumnTransformer(\n",
    "    [\n",
    "        (\"dummify\", OneHotEncoder(sparse_output=False), [\"Bldg Type\"]),\n",
    "        (\"poly_size\", PolynomialFeatures(), [\"Gr Liv Area\"]),\n",
    "        (\"poly_rooms\", PolynomialFeatures(), [\"TotRms AbvGrd\"])\n",
    "    ],\n",
    "    remainder=\"drop\"\n",
    ")\n",
    "\n",
    "lr_pipeline_poly = Pipeline(\n",
    "    [\n",
    "        (\"preprocessing\", ct_poly),\n",
    "        (\"linear_regression\", LinearRegression())\n",
    "    ]\n",
    ").set_output(transform=\"pandas\")\n",
    "\n",
    "degrees = {\n",
    "    'preprocessing__poly_size__degree': np.arange(1, 10),\n",
    "    'preprocessing__poly_rooms__degree': np.arange(1, 10)\n",
    "}\n",
    "\n",
    "gscv = GridSearchCV(\n",
    "    estimator=lr_pipeline_poly,\n",
    "    param_grid=degrees,\n",
    "    cv=5,\n",
    "    scoring='r2'\n",
    ")\n",
    "\n",
    "gscv.fit(X, y)\n",
    "\n",
    "print(\"Best parameters:\", gscv.best_params_)\n",
    "print(\"Best R^2 score:\", gscv.best_score_)\n"
   ]
  }
 ],
 "metadata": {
  "language_info": {
   "name": "python"
  }
 },
 "nbformat": 4,
 "nbformat_minor": 2
}
