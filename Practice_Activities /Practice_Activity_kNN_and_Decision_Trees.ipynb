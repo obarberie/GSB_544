{
  "cells": [
    {
      "cell_type": "code",
      "execution_count": 14,
      "metadata": {
        "vscode": {
          "languageId": "yaml"
        }
      },
      "outputs": [
        {
          "ename": "SyntaxError",
          "evalue": "invalid syntax (2113416147.py, line 1)",
          "output_type": "error",
          "traceback": [
            "\u001b[0;36m  Cell \u001b[0;32mIn[14], line 1\u001b[0;36m\u001b[0m\n",
            "\u001b[0;31m    ---\u001b[0m\n",
            "\u001b[0m       ^\u001b[0m\n",
            "\u001b[0;31mSyntaxError\u001b[0m\u001b[0;31m:\u001b[0m invalid syntax\n"
          ]
        }
      ],
      "source": [
        "---\n",
        "  title: PA 8.1\n",
        "  author: Owen Barberie\n",
        "  format: \n",
        "      html:\n",
        "          toc: false\n",
        "          code-fold: false\n",
        "          embed-resources: true\n",
        "  theme: cosmo\n",
        "  ---"
      ]
    },
    {
      "cell_type": "markdown",
      "metadata": {
        "id": "VeAOZxOcM0Vi"
      },
      "source": [
        "# Palmer Penguins Modeling\n",
        "\n",
        "Import the Palmer Penguins dataset and print out the first few rows.\n",
        "\n",
        "Suppose we want to predict `bill_depth_mm` using the other variables in the dataset.\n",
        "\n",
        "**Dummify** all variables that require this."
      ]
    },
    {
      "cell_type": "code",
      "execution_count": 9,
      "metadata": {
        "id": "Bj_0VvPJMWyp"
      },
      "outputs": [
        {
          "data": {
            "text/html": [
              "<div>\n",
              "<style scoped>\n",
              "    .dataframe tbody tr th:only-of-type {\n",
              "        vertical-align: middle;\n",
              "    }\n",
              "\n",
              "    .dataframe tbody tr th {\n",
              "        vertical-align: top;\n",
              "    }\n",
              "\n",
              "    .dataframe thead th {\n",
              "        text-align: right;\n",
              "    }\n",
              "</style>\n",
              "<table border=\"1\" class=\"dataframe\">\n",
              "  <thead>\n",
              "    <tr style=\"text-align: right;\">\n",
              "      <th></th>\n",
              "      <th>species</th>\n",
              "      <th>island</th>\n",
              "      <th>bill_length_mm</th>\n",
              "      <th>bill_depth_mm</th>\n",
              "      <th>flipper_length_mm</th>\n",
              "      <th>body_mass_g</th>\n",
              "      <th>sex</th>\n",
              "    </tr>\n",
              "  </thead>\n",
              "  <tbody>\n",
              "    <tr>\n",
              "      <th>0</th>\n",
              "      <td>Adelie</td>\n",
              "      <td>Torgersen</td>\n",
              "      <td>39.1</td>\n",
              "      <td>18.7</td>\n",
              "      <td>181.0</td>\n",
              "      <td>3750.0</td>\n",
              "      <td>MALE</td>\n",
              "    </tr>\n",
              "    <tr>\n",
              "      <th>1</th>\n",
              "      <td>Adelie</td>\n",
              "      <td>Torgersen</td>\n",
              "      <td>39.5</td>\n",
              "      <td>17.4</td>\n",
              "      <td>186.0</td>\n",
              "      <td>3800.0</td>\n",
              "      <td>FEMALE</td>\n",
              "    </tr>\n",
              "    <tr>\n",
              "      <th>2</th>\n",
              "      <td>Adelie</td>\n",
              "      <td>Torgersen</td>\n",
              "      <td>40.3</td>\n",
              "      <td>18.0</td>\n",
              "      <td>195.0</td>\n",
              "      <td>3250.0</td>\n",
              "      <td>FEMALE</td>\n",
              "    </tr>\n",
              "    <tr>\n",
              "      <th>3</th>\n",
              "      <td>Adelie</td>\n",
              "      <td>Torgersen</td>\n",
              "      <td>NaN</td>\n",
              "      <td>NaN</td>\n",
              "      <td>NaN</td>\n",
              "      <td>NaN</td>\n",
              "      <td>NaN</td>\n",
              "    </tr>\n",
              "    <tr>\n",
              "      <th>4</th>\n",
              "      <td>Adelie</td>\n",
              "      <td>Torgersen</td>\n",
              "      <td>36.7</td>\n",
              "      <td>19.3</td>\n",
              "      <td>193.0</td>\n",
              "      <td>3450.0</td>\n",
              "      <td>FEMALE</td>\n",
              "    </tr>\n",
              "  </tbody>\n",
              "</table>\n",
              "</div>"
            ],
            "text/plain": [
              "  species     island  bill_length_mm  bill_depth_mm  flipper_length_mm  body_mass_g     sex\n",
              "0  Adelie  Torgersen            39.1           18.7              181.0       3750.0    MALE\n",
              "1  Adelie  Torgersen            39.5           17.4              186.0       3800.0  FEMALE\n",
              "2  Adelie  Torgersen            40.3           18.0              195.0       3250.0  FEMALE\n",
              "3  Adelie  Torgersen             NaN            NaN                NaN          NaN     NaN\n",
              "4  Adelie  Torgersen            36.7           19.3              193.0       3450.0  FEMALE"
            ]
          },
          "execution_count": null,
          "metadata": {},
          "output_type": "execute_result"
        }
      ],
      "source": [
        "import pandas as pd\n",
        "import numpy as np\n",
        "from sklearn.model_selection import train_test_split\n",
        "from sklearn.preprocessing import StandardScaler, OneHotEncoder\n",
        "from sklearn.compose import ColumnTransformer\n",
        "from sklearn.pipeline import Pipeline\n",
        "from sklearn.linear_model import LinearRegression\n",
        "from sklearn.neighbors import KNeighborsRegressor\n",
        "from sklearn.tree import DecisionTreeRegressor\n",
        "from sklearn.metrics import mean_squared_error\n",
        "from plotnine import *\n",
        "\n",
        "df = pd.read_csv('https://raw.githubusercontent.com/mwaskom/seaborn-data/master/penguins.csv')\n",
        "df.head()"
      ]
    },
    {
      "cell_type": "code",
      "execution_count": 10,
      "metadata": {},
      "outputs": [],
      "source": [
        "df.dropna(inplace=True)\n",
        "\n",
        "X = df.drop(columns=['bill_depth_mm'])\n",
        "y = df['bill_depth_mm']\n",
        "\n",
        "# Dummying\n",
        "categorical_features = X.select_dtypes(include=['object']).columns\n",
        "preprocessor = ColumnTransformer(\n",
        "    transformers=[\n",
        "        ('num', 'passthrough', X.select_dtypes(exclude=['object']).columns),\n",
        "        ('cat', OneHotEncoder(), categorical_features)\n",
        "    ]\n",
        ")"
      ]
    },
    {
      "cell_type": "markdown",
      "metadata": {
        "id": "CXmaqajAchqz"
      },
      "source": [
        "Let's use the other variables to predict `bill_depth_mm`. Prepare your data and fit the following models on the entire dataset:\n",
        "\n",
        "* Your best multiple linear regression model from before\n",
        "* Two kNN models (for different values of K)\n",
        "* A decision tree model\n",
        "\n",
        "Create a plot like the right plot of Fig 1. in our `Model Validation` chapter with the training and test error plotted for each of your four models.\n",
        "\n",
        "Which of your models was best?"
      ]
    },
    {
      "cell_type": "code",
      "execution_count": 11,
      "metadata": {
        "id": "R3MYBNQmcyld"
      },
      "outputs": [
        {
          "data": {
            "image/png": "[encoded data removed]"
          },
          "metadata": {},
          "output_type": "display_data"
        }
      ],
      "source": [
        "# T T S \n",
        "X_train, X_test, y_train, y_test = train_test_split(X, y, test_size=0.2, random_state=42)\n",
        "\n",
        "# multiple linear regression pipeline\n",
        "linear_pipeline = Pipeline([\n",
        "    ('preprocessor', preprocessor),\n",
        "    ('scaler', StandardScaler()),\n",
        "    ('regressor', LinearRegression())\n",
        "])\n",
        "\n",
        "# fit / predict\n",
        "linear_pipeline.fit(X_train, y_train)\n",
        "y_pred_linear = linear_pipeline.predict(X_test)\n",
        "linear_mse = mean_squared_error(y_test, y_pred_linear)\n",
        "\n",
        "# KNN Ks\n",
        "knn_results = []\n",
        "for k in [3, 10]:\n",
        "    knn_pipeline = Pipeline([\n",
        "        ('preprocessor', preprocessor),\n",
        "        ('scaler', StandardScaler()),\n",
        "        ('regressor', KNeighborsRegressor(n_neighbors=k))\n",
        "    ])\n",
        "    \n",
        "    # fit / predict using kNN\n",
        "    knn_pipeline.fit(X_train, y_train)\n",
        "    y_pred_knn = knn_pipeline.predict(X_test)\n",
        "    knn_mse = mean_squared_error(y_test, y_pred_knn)\n",
        "    knn_results.append((k, knn_mse))\n",
        "\n",
        "# decision tree (dt) pipe\n",
        "dt_pipeline = Pipeline([\n",
        "    ('preprocessor', preprocessor),\n",
        "    ('regressor', DecisionTreeRegressor(random_state=42))\n",
        "])\n",
        "\n",
        "# fit / predict dt \n",
        "dt_pipeline.fit(X_train, y_train)\n",
        "y_pred_dt = dt_pipeline.predict(X_test)\n",
        "dt_mse = mean_squared_error(y_test, y_pred_dt)\n",
        "\n",
        "# plot \n",
        "models = ['Linear Regression', 'kNN (k=3)', 'kNN (k=10)', 'Decision Tree']\n",
        "errors = [linear_mse, knn_results[0][1], knn_results[1][1], dt_mse]\n",
        "\n",
        "error_df = pd.DataFrame({'Model': models, 'Mean Squared Error': errors})\n",
        "\n",
        "(ggplot(error_df, aes(x='Model', y='Mean Squared Error')) +\n",
        "        geom_bar(stat='identity', fill='skyblue') +\n",
        "        labs(title='Test Mean Squared Error for Different Models', x='Model', y='Mean Squared Error') +\n",
        "        theme_minimal())\n"
      ]
    },
    {
      "cell_type": "code",
      "execution_count": 13,
      "metadata": {},
      "outputs": [
        {
          "name": "stdout",
          "output_type": "stream",
          "text": [
            "Linear Regression MSE: 0.8436780763108651\n",
            "kNN (k=3) MSE: 0.9361691542288555\n",
            "kNN (k=10) MSE: 0.8608820895522385\n",
            "Decision Tree MSE: 1.1964179104477615\n",
            "Linear Regression MSE: 0.8436780763108651\n",
            "kNN (k=3) MSE: 0.9361691542288555\n",
            "kNN (k=10) MSE: 0.8608820895522385\n",
            "Decision Tree MSE: 1.1964179104477615\n"
          ]
        }
      ],
      "source": [
        "# results\n",
        "print(\"Linear Regression MSE:\", linear_mse)\n",
        "for k, mse in knn_results:\n",
        "    print(f\"kNN (k={k}) MSE:\", mse)\n",
        "print(\"Decision Tree MSE:\", dt_mse)"
      ]
    }
  ],
  "metadata": {
    "colab": {
      "provenance": []
    },
    "kernelspec": {
      "display_name": "Python 3",
      "name": "python3"
    },
    "language_info": {
      "name": "python"
    }
  },
  "nbformat": 4,
  "nbformat_minor": 0
}
