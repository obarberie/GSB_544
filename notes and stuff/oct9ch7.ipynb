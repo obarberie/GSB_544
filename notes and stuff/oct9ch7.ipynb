{
 "cells": [
  {
   "cell_type": "code",
   "execution_count": 2,
   "metadata": {},
   "outputs": [
    {
     "name": "stdout",
     "output_type": "stream",
     "text": [
      "100 bottles of beer on the wall\n",
      "100 bottles of beer\n",
      " take one down, pass it around,\n",
      "99 bottles of beer on the wall\n",
      "99 bottles of beer on the wall\n",
      "99 bottles of beer\n",
      " take one down, pass it around,\n",
      "98 bottles of beer on the wall\n",
      "98 bottles of beer on the wall\n",
      "98 bottles of beer\n",
      " take one down, pass it around,\n",
      "97 bottles of beer on the wall\n",
      "100 bottles of beer on the wall\n",
      "100 bottles of beer\n",
      " take one down, pass it around,\n",
      "99 bottles of beer on the wall\n",
      "99 bottles of beer on the wall\n",
      "99 bottles of beer\n",
      " take one down, pass it around,\n",
      "98 bottles of beer on the wall\n",
      "98 bottles of beer on the wall\n",
      "98 bottles of beer\n",
      " take one down, pass it around,\n",
      "97 bottles of beer on the wall\n"
     ]
    }
   ],
   "source": [
    "for i in range(100,97,-1):\n",
    "  print(str(i) + \" bottles of beer on the wall\")\n",
    "  print(str(i) + \" bottles of beer\")\n",
    "  print(\" take one down, pass it around,\")\n",
    "  print(str(i-1) + \" bottles of beer on the wall\")"
   ]
  },
  {
   "cell_type": "code",
   "execution_count": 4,
   "metadata": {},
   "outputs": [],
   "source": [
    "def sing_verse(num):\n",
    "  song = str(num) + \" bottles of beer on the wall \\n\" + str(num) + \" bottles of beer \\n\" + \" take one down, pass it around, \\n\" + str(num-1) + \" bottles of beer on the wall \\n\"\n",
    "  \n",
    "  return song\n",
    "\n",
    "  #________"
   ]
  },
  {
   "cell_type": "code",
   "execution_count": 7,
   "metadata": {},
   "outputs": [],
   "source": [
    "import numpy as np"
   ]
  },
  {
   "cell_type": "code",
   "execution_count": 8,
   "metadata": {},
   "outputs": [
    {
     "name": "stdout",
     "output_type": "stream",
     "text": [
      "-2\n",
      "1.0\n",
      "-3\n",
      "-9\n",
      "2.6457513110645907\n",
      "-2\n",
      "1.0\n",
      "-3\n",
      "-9\n",
      "2.6457513110645907\n"
     ]
    }
   ],
   "source": [
    "a_vec = np.array([-2, 1, -3, -9, 7])\n",
    "\n",
    "for val in a_vec:\n",
    "  if val > 0:\n",
    "    val = np.sqrt(val)\n",
    "  print(val)"
   ]
  },
  {
   "cell_type": "code",
   "execution_count": 9,
   "metadata": {},
   "outputs": [
    {
     "data": {
      "text/plain": [
       "array([-2,  1, -3, -9,  2])"
      ]
     },
     "execution_count": null,
     "metadata": {},
     "output_type": "execute_result"
    }
   ],
   "source": [
    "is_pos = a_vec > 0\n",
    "\n",
    "a_vec[is_pos] = np.sqrt(a_vec[is_pos])\n",
    "\n",
    "a_vec"
   ]
  },
  {
   "cell_type": "code",
   "execution_count": 14,
   "metadata": {},
   "outputs": [
    {
     "data": {
      "text/plain": [
       "[-2, 1.0, -3, -9, 1.4142135623730951]"
      ]
     },
     "execution_count": null,
     "metadata": {},
     "output_type": "execute_result"
    }
   ],
   "source": [
    "#checkin 7.2 part 1 \n",
    "def sqrt_pos_unvec(value):\n",
    "    if value > 0:\n",
    "        return np.sqrt(value)\n",
    "    else:\n",
    "        return value\n",
    "\n",
    "new_vec = []\n",
    "\n",
    "for val in a_vec:\n",
    "    new_vec.append(sqrt_pos_unvec(val))\n",
    "\n",
    "new_vec"
   ]
  },
  {
   "cell_type": "code",
   "execution_count": 16,
   "metadata": {},
   "outputs": [
    {
     "name": "stdout",
     "output_type": "stream",
     "text": [
      "[-2  1 -3 -9  2]\n",
      "[-2  1 -3 -9  1]\n",
      "[-2  1 -3 -9  2]\n",
      "[-2  1 -3 -9  1]\n"
     ]
    }
   ],
   "source": [
    "#checkin 7.2 part 2\n",
    "def sqrt_pos_vec(value):\n",
    "    is_pos = value > 0\n",
    "    value[is_pos] = np.sqrt(value[is_pos])\n",
    "    return value\n",
    "\n",
    "print(a_vec)\n",
    "print(sqrt_pos_vec(a_vec))"
   ]
  },
  {
   "cell_type": "code",
   "execution_count": 2,
   "metadata": {},
   "outputs": [],
   "source": [
    "def sing_verse(num):\n",
    "  song = str(num) + \" bottles of beer on the wall \\n\" + str(num) + \" bottles of beer \\n\" + \" take one down, pass it around, \\n\" + str(num-1) + \" bottles of beer on the wall \\n\"\n",
    "  \n",
    "  return song"
   ]
  },
  {
   "cell_type": "code",
   "execution_count": 3,
   "metadata": {},
   "outputs": [
    {
     "name": "stdout",
     "output_type": "stream",
     "text": [
      "100 bottles of beer on the wall \n",
      "100 bottles of beer \n",
      " take one down, pass it around, \n",
      "99 bottles of beer on the wall \n",
      "99 bottles of beer on the wall \n",
      "99 bottles of beer \n",
      " take one down, pass it around, \n",
      "98 bottles of beer on the wall \n",
      "98 bottles of beer on the wall \n",
      "98 bottles of beer \n",
      " take one down, pass it around, \n",
      "97 bottles of beer on the wall \n",
      "\n",
      "100 bottles of beer on the wall \n",
      "100 bottles of beer \n",
      " take one down, pass it around, \n",
      "99 bottles of beer on the wall \n",
      "99 bottles of beer on the wall \n",
      "99 bottles of beer \n",
      " take one down, pass it around, \n",
      "98 bottles of beer on the wall \n",
      "98 bottles of beer on the wall \n",
      "98 bottles of beer \n",
      " take one down, pass it around, \n",
      "97 bottles of beer on the wall \n",
      "\n"
     ]
    }
   ],
   "source": [
    "song = \"\"\n",
    "\n",
    "for i in range(100,97,-1):\n",
    "  song = song + sing_verse(i)\n",
    "  \n",
    "print(song)"
   ]
  },
  {
   "cell_type": "code",
   "execution_count": 4,
   "metadata": {},
   "outputs": [
    {
     "name": "stdout",
     "output_type": "stream",
     "text": [
      "100 bottles of beer on the wall \n",
      "100 bottles of beer \n",
      " take one down, pass it around, \n",
      "99 bottles of beer on the wall \n",
      "99 bottles of beer on the wall \n",
      "99 bottles of beer \n",
      " take one down, pass it around, \n",
      "98 bottles of beer on the wall \n",
      "98 bottles of beer on the wall \n",
      "98 bottles of beer \n",
      " take one down, pass it around, \n",
      "97 bottles of beer on the wall \n",
      "\n",
      "100 bottles of beer on the wall \n",
      "100 bottles of beer \n",
      " take one down, pass it around, \n",
      "99 bottles of beer on the wall \n",
      "99 bottles of beer on the wall \n",
      "99 bottles of beer \n",
      " take one down, pass it around, \n",
      "98 bottles of beer on the wall \n",
      "98 bottles of beer on the wall \n",
      "98 bottles of beer \n",
      " take one down, pass it around, \n",
      "97 bottles of beer on the wall \n",
      "\n"
     ]
    }
   ],
   "source": [
    "#7.31 mapping \n",
    "song = map(sing_verse, range(100, 97, -1))\n",
    "song = list(song)\n",
    "print(\"\".join(song))"
   ]
  }
 ],
 "metadata": {
  "language_info": {
   "name": "python"
  }
 },
 "nbformat": 4,
 "nbformat_minor": 2
}
